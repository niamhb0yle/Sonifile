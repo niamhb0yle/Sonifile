{
 "cells": [
  {
   "cell_type": "code",
   "execution_count": null,
   "metadata": {},
   "outputs": [],
   "source": [
    "# Test pop up, self reflection is the best!!"
   ]
  },
  {
   "cell_type": "code",
   "execution_count": null,
   "metadata": {},
   "outputs": [
    {
     "name": "stdout",
     "output_type": "stream",
     "text": [
      "Directory: .ipynb_checkpoints\n",
      "  File: prototypeNotebook-checkpoint.ipynb\n",
      "  File: Untitled-checkpoint.ipynb\n",
      "  File: Untitled1-checkpoint.ipynb\n",
      "  File: Untitled2-checkpoint.ipynb\n",
      "  File: Untitled3-checkpoint.ipynb\n",
      "  File: Untitled4-checkpoint.ipynb\n",
      "File: jupyter_extension.py\n",
      "File: prototypeNotebook.ipynb\n",
      "File: sonifile_prototype.py\n",
      "Directory: TestProject\n",
      "  Directory: Docs\n",
      "    File: bigDoc.docx\n",
      "    File: bigDoc.txt\n",
      "    File: smallDoc.docx\n",
      "    File: smallDoc2.txt\n",
      "    File: usefulDocument.docx\n",
      "    File: usefulDocument.txt\n",
      "  Directory: python\n",
      "    File: .gitignore\n",
      "    Directory: .idea\n",
      "      File: .gitignore\n",
      "      File: misc.xml\n",
      "      File: modules.xml\n",
      "      File: python.iml\n",
      "      File: vcs.xml\n",
      "      File: workspace.xml\n",
      "    File: gilded_rose.py\n",
      "    File: test_gilded_rose.py\n",
      "    File: texttest_fixture.py\n",
      "  Directory: Src\n",
      "    Directory: Main\n",
      "  Directory: Test\n",
      "File: Untitled.ipynb\n",
      "File: untitled.txt\n",
      "File: Untitled1.ipynb\n",
      "File: Untitled2.ipynb\n",
      "File: Untitled3.ipynb\n",
      "File: Untitled4.ipynb\n",
      "Directory: __pycache__\n",
      "  File: jupyter_extension.cpython-38.pyc\n",
      "  File: sonifile_prototype.cpython-38.pyc\n",
      "prototypeNotebook-checkpoint.ipynb\n",
      "Untitled-checkpoint.ipynb\n",
      "Untitled1-checkpoint.ipynb\n",
      "Untitled2-checkpoint.ipynb\n",
      "Untitled3-checkpoint.ipynb\n",
      "Untitled4-checkpoint.ipynb\n",
      "jupyter_extension.py\n",
      "prototypeNotebook.ipynb\n",
      "sonifile_prototype.py\n",
      "bigDoc.docx\n",
      "bigDoc.txt\n",
      "smallDoc.docx\n",
      "smallDoc2.txt\n",
      "usefulDocument.docx\n",
      "usefulDocument.txt\n",
      ".gitignore\n",
      "misc.xml\n",
      "modules.xml\n",
      "python.iml\n",
      "vcs.xml\n",
      "workspace.xml\n",
      "gilded_rose.py\n",
      "test_gilded_rose.py\n",
      "texttest_fixture.py\n",
      "Untitled.ipynb\n",
      "untitled.txt\n",
      "Untitled1.ipynb\n",
      "Untitled2.ipynb\n",
      "Untitled3.ipynb\n",
      "Untitled4.ipynb\n",
      "jupyter_extension.cpython-38.pyc\n",
      "sonifile_prototype.cpython-38.pyc\n",
      "Select a filesmallDoc.txt\n",
      "File not found. Please try again.\n",
      "Select a filesmallDoc2.txt\n",
      "['', 'TestProject', 'Docs', 'smallDoc2.txt']\n",
      "['', 'TestProject', 'Docs', 'smallDoc2.txt']\n",
      "['', 'TestProject', 'Docs', 'smallDoc2.txt']\n",
      "['', 'TestProject', 'Docs', 'smallDoc2.txt']\n",
      "Select a filemisc.xml\n",
      "['', 'TestProject', 'python', '.idea', 'misc.xml']\n",
      "['', 'TestProject', 'python', '.idea', 'misc.xml']\n",
      "['', 'TestProject', 'python', '.idea', 'misc.xml']\n",
      "['', 'TestProject', 'python', '.idea', 'misc.xml']\n",
      "['', 'TestProject', 'python', '.idea', 'misc.xml']\n"
     ]
    }
   ],
   "source": [
    "%load_ext autoreload\n",
    "%autoreload 2\n",
    "%run sonifile_prototype.py\n",
    "%reload_ext sonifile_prototype\n",
    "%select_from_dummy_folder\n"
   ]
  },
  {
   "cell_type": "code",
   "execution_count": null,
   "metadata": {},
   "outputs": [],
   "source": [
    "%select_from_dummy_folder"
   ]
  }
 ],
 "metadata": {
  "kernelspec": {
   "display_name": "Python 3",
   "language": "python",
   "name": "python3"
  },
  "language_info": {
   "codemirror_mode": {
    "name": "ipython",
    "version": 3
   },
   "file_extension": ".py",
   "mimetype": "text/x-python",
   "name": "python",
   "nbconvert_exporter": "python",
   "pygments_lexer": "ipython3",
   "version": "3.8.3"
  }
 },
 "nbformat": 4,
 "nbformat_minor": 4
}
