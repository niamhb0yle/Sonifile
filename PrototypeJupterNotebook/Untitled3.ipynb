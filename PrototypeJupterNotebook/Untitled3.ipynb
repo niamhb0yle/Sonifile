{
 "cells": [
  {
   "cell_type": "code",
   "execution_count": null,
   "metadata": {},
   "outputs": [],
   "source": [
    "# Test pop up, self reflection is the best!!"
   ]
  },
  {
   "cell_type": "code",
   "execution_count": 15,
   "metadata": {},
   "outputs": [
    {
     "name": "stdout",
     "output_type": "stream",
     "text": [
      "The autoreload extension is already loaded. To reload it, use:\n",
      "  %reload_ext autoreload\n",
      "Directory: TestProject\n",
      "  File: test6.txt\n",
      "  Directory: python\n",
      "    File: test_gilded_rose.py\n",
      "    File: gilded_rose.py\n",
      "    File: .gitignore\n",
      "    File: texttest_fixture.py\n",
      "  Directory: Docs\n",
      "    File: test5.txt\n",
      "    File: bigDoc.txt\n",
      "    File: test2.txt\n",
      "    File: usefulDocument.docx\n",
      "    File: bigDoc.docx\n",
      "    File: smallDoc2.txt\n",
      "    File: usefulDocument.txt\n",
      "    File: smallDoc.docx\n",
      "File: Untitled1.ipynb\n",
      "File: .DS_Store\n",
      "File: test3.txt\n",
      "File: Untitled3.ipynb\n",
      "File: Untitled.ipynb\n",
      "File: Untitled4.ipynb\n",
      "File: Untitled2.ipynb\n",
      "File: sonifile_prototype.py\n",
      "Directory: __pycache__\n",
      "  File: sonifile_prototype.cpython-38.pyc\n",
      "  File: test1.txt\n",
      "  File: jupyter_extension.cpython-38.pyc\n",
      "File: untitled.txt\n",
      "Directory: .ipynb_checkpoints\n",
      "  File: Untitled3-checkpoint.ipynb\n",
      "  File: test4.txt\n",
      "  File: Untitled2-checkpoint.ipynb\n",
      "  File: prototypeNotebook-checkpoint.ipynb\n",
      "  File: Untitled1-checkpoint.ipynb\n",
      "  File: Untitled-checkpoint.ipynb\n",
      "  File: Untitled4-checkpoint.ipynb\n",
      "File: prototypeNotebook.ipynb\n",
      "File: jupyter_extension.py\n",
      "test6.txt\n",
      "test_gilded_rose.py\n",
      "gilded_rose.py\n",
      ".gitignore\n",
      "texttest_fixture.py\n",
      "test5.txt\n",
      "bigDoc.txt\n",
      "test2.txt\n",
      "usefulDocument.docx\n",
      "bigDoc.docx\n",
      "smallDoc2.txt\n",
      "usefulDocument.txt\n",
      "smallDoc.docx\n",
      "Untitled1.ipynb\n",
      ".DS_Store\n",
      "test3.txt\n",
      "Untitled3.ipynb\n",
      "Untitled.ipynb\n",
      "Untitled4.ipynb\n",
      "Untitled2.ipynb\n",
      "sonifile_prototype.py\n",
      "sonifile_prototype.cpython-38.pyc\n",
      "test1.txt\n",
      "jupyter_extension.cpython-38.pyc\n",
      "untitled.txt\n",
      "Untitled3-checkpoint.ipynb\n",
      "test4.txt\n",
      "Untitled2-checkpoint.ipynb\n",
      "prototypeNotebook-checkpoint.ipynb\n",
      "Untitled1-checkpoint.ipynb\n",
      "Untitled-checkpoint.ipynb\n",
      "Untitled4-checkpoint.ipynb\n",
      "prototypeNotebook.ipynb\n",
      "jupyter_extension.py\n",
      "\n",
      "/Users/callumholmes/Desktop/HCI/Sonifile/PrototypeJupterNotebook/test3.txt\n",
      "test3.txt\n",
      "/Users/callumholmes/Desktop/HCI/Sonifile/PrototypeJupterNotebook/test3.txt\n"
     ]
    }
   ],
   "source": [
    "%load_ext autoreload\n",
    "%autoreload 2\n",
    "%run sonifile_prototype.py\n",
    "%reload_ext sonifile_prototype\n",
    "%select_from_dummy_folder\n"
   ]
  },
  {
   "cell_type": "code",
   "execution_count": null,
   "metadata": {},
   "outputs": [],
   "source": [
    "%select_from_dummy_folder"
   ]
  },
  {
   "cell_type": "code",
   "execution_count": null,
   "metadata": {},
   "outputs": [],
   "source": []
  }
 ],
 "metadata": {
  "kernelspec": {
   "display_name": "Python 3.8.3 ('base')",
   "language": "python",
   "name": "python3"
  },
  "language_info": {
   "codemirror_mode": {
    "name": "ipython",
    "version": 3
   },
   "file_extension": ".py",
   "mimetype": "text/x-python",
   "name": "python",
   "nbconvert_exporter": "python",
   "pygments_lexer": "ipython3",
   "version": "3.8.3"
  },
  "vscode": {
   "interpreter": {
    "hash": "bfce5a4e0c8970ef2c06a1fc10c5320cf013a09bc8cee3b7c4eb52204c7d8343"
   }
  }
 },
 "nbformat": 4,
 "nbformat_minor": 4
}
