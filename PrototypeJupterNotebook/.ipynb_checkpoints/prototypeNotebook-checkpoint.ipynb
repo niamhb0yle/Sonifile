{
 "cells": [
  {
   "cell_type": "code",
   "execution_count": 1,
   "metadata": {},
   "outputs": [
    {
     "data": {
      "text/html": [
       "\n",
       "        <script>\n",
       "            function code_toggle_6659454813715298096() {\n",
       "                $('div.cell.code_cell.rendered.selected').find('div.input').toggle();\n",
       "            }\n",
       "\n",
       "            \n",
       "        </script>\n",
       "\n",
       "        <a href=\"javascript:code_toggle_6659454813715298096()\">Toggle show/hide</a>\n",
       "    "
      ],
      "text/plain": [
       "<IPython.core.display.HTML object>"
      ]
     },
     "execution_count": 1,
     "metadata": {},
     "output_type": "execute_result"
    }
   ],
   "source": [
    "from IPython.display import HTML\n",
    "import random\n",
    "\n",
    "def hide_toggle(for_next=False):\n",
    "    this_cell = \"\"\"$('div.cell.code_cell.rendered.selected')\"\"\"\n",
    "    next_cell = this_cell + '.next()'\n",
    "\n",
    "    toggle_text = 'Toggle show/hide'  # text shown on toggle link\n",
    "    target_cell = this_cell  # target cell to control with toggle\n",
    "    js_hide_current = ''  # bit of JS to permanently hide code in current cell (only when toggling next cell)\n",
    "\n",
    "    if for_next:\n",
    "        target_cell = next_cell\n",
    "        toggle_text += ' next cell'\n",
    "        js_hide_current = this_cell + '.find(\"div.input\").hide();'\n",
    "\n",
    "    js_f_name = 'code_toggle_{}'.format(str(random.randint(1,2**64)))\n",
    "\n",
    "    html = \"\"\"\n",
    "        <script>\n",
    "            function {f_name}() {{\n",
    "                {cell_selector}.find('div.input').toggle();\n",
    "            }}\n",
    "\n",
    "            {js_hide_current}\n",
    "        </script>\n",
    "\n",
    "        <a href=\"javascript:{f_name}()\">{toggle_text}</a>\n",
    "    \"\"\".format(\n",
    "        f_name=js_f_name,\n",
    "        cell_selector=target_cell,\n",
    "        js_hide_current=js_hide_current, \n",
    "        toggle_text=toggle_text\n",
    "    )\n",
    "\n",
    "    return HTML(html)\n",
    "hide_toggle()"
   ]
  },
  {
   "cell_type": "code",
   "execution_count": 2,
   "metadata": {},
   "outputs": [
    {
     "data": {
      "text/html": [
       "\n",
       "        <script>\n",
       "            function code_toggle_5190388870912815762() {\n",
       "                $('div.cell.code_cell.rendered.selected').find('div.input').toggle();\n",
       "            }\n",
       "\n",
       "            \n",
       "        </script>\n",
       "\n",
       "        <a href=\"javascript:code_toggle_5190388870912815762()\">Toggle show/hide</a>\n",
       "    "
      ],
      "text/plain": [
       "<IPython.core.display.HTML object>"
      ]
     },
     "execution_count": 2,
     "metadata": {},
     "output_type": "execute_result"
    }
   ],
   "source": [
    "import sounddevice as sd\n",
    "import numpy as np\n",
    "import time\n",
    " \n",
    "def play_file_size(file_size_mbytes):\n",
    "    sd.play(file_size_mbytes * np.sin(0.1*np.arange(176400/3)), 44100)\n",
    "    \n",
    "    \n",
    "    \n",
    "def main():\n",
    "    for i in range(10):\n",
    "        play_file_size(1)\n",
    "        time.sleep(0.1)\n",
    "        play_file_size(3)\n",
    "\n",
    "hide_toggle()"
   ]
  },
  {
   "cell_type": "code",
   "execution_count": 6,
   "metadata": {},
   "outputs": [
    {
     "name": "stdout",
     "output_type": "stream",
     "text": [
      "Files in the current directory:\n",
      "jupyter_extension.py 23\n",
      "prototypeNotebook.ipynb 340\n",
      "Untitled.ipynb 232\n",
      "untitled.txt 30\n",
      "Untitled1.ipynb 80\n",
      "select a fileuntitled.txt\n"
     ]
    }
   ],
   "source": [
    "import os\n",
    "\n",
    "def list_files_in_current_directory():\n",
    "    current_directory = os.getcwd()\n",
    "    files = [f for f in os.listdir(current_directory) if os.path.isfile(os.path.join(current_directory, f))]\n",
    " \n",
    "    return files\n",
    "\n",
    "files_in_current_directory = list_files_in_current_directory()\n",
    "\n",
    "\n",
    "file_size_dict = {}\n",
    "print(\"Files in the current directory:\")\n",
    "for file in files_in_current_directory:\n",
    "    f = open(file, \"r\")\n",
    "    f.readline()\n",
    "    counter = 0\n",
    "    while f.readline() != \"\":\n",
    "        counter = counter +1\n",
    "    print(file, counter)\n",
    "    file_size_dict[file] = counter\n",
    "    f.close()\n",
    "    \n",
    "    \n",
    "def input_file():\n",
    "    user_input = input(\"select a file\")\n",
    "    if user_input in file_size_dict:\n",
    "        size = file_size_dict[user_input] / 100\n",
    "        play_file_size(size)\n",
    "    else:\n",
    "        print(\"file not found\")\n",
    "        \n",
    "input_file()"
   ]
  },
  {
   "cell_type": "code",
   "execution_count": null,
   "metadata": {},
   "outputs": [
    {
     "name": "stdout",
     "output_type": "stream",
     "text": [
      "prototypeNotebook-checkpoint.ipynb C:.ipynb_checkpoints\\prototypeNotebook-checkpoint.ipynb 147\n",
      "Untitled-checkpoint.ipynb C:.ipynb_checkpoints\\Untitled-checkpoint.ipynb 118\n",
      "Untitled1-checkpoint.ipynb C:.ipynb_checkpoints\\Untitled1-checkpoint.ipynb 3\n",
      "jupyter_extension.py C:jupyter_extension.py 12\n",
      "prototypeNotebook.ipynb C:prototypeNotebook.ipynb 151\n",
      "file wont open\n",
      "bigDoc.docx C:TestProject\\Docs\\bigDoc.docx 0\n",
      "bigDoc.txt C:TestProject\\Docs\\bigDoc.txt 66\n",
      "file wont open\n",
      "smallDoc.docx C:TestProject\\Docs\\smallDoc.docx 0\n",
      "smallDoc.txt C:TestProject\\Docs\\smallDoc.txt 3\n",
      "file wont open\n",
      "usefulDocument.docx C:TestProject\\Docs\\usefulDocument.docx 0\n",
      "usefulDocument.txt C:TestProject\\Docs\\usefulDocument.txt 32\n",
      ".gitignore C:TestProject\\python\\.idea\\.gitignore 2\n",
      "misc.xml C:TestProject\\python\\.idea\\misc.xml 3\n",
      "modules.xml C:TestProject\\python\\.idea\\modules.xml 4\n",
      "python.iml C:TestProject\\python\\.idea\\python.iml 5\n",
      "vcs.xml C:TestProject\\python\\.idea\\vcs.xml 3\n",
      "workspace.xml C:TestProject\\python\\.idea\\workspace.xml 19\n",
      "gilded_rose.py C:TestProject\\python\\gilded_rose.py 23\n",
      "test_gilded_rose.py C:TestProject\\python\\test_gilded_rose.py 8\n",
      "texttest_fixture.py C:TestProject\\python\\texttest_fixture.py 15\n",
      "Untitled.ipynb C:Untitled.ipynb 117\n",
      "untitled.txt C:untitled.txt 16\n",
      "Untitled1.ipynb C:Untitled1.ipynb 41\n",
      "file wont open\n",
      "jupyter_extension.cpython-38.pyc C:__pycache__\\jupyter_extension.cpython-38.pyc 0\n",
      "select a fileusefulDocument.txt\n",
      "select a filesmallDoc.txt\n",
      "select a filesmallDoc.txt\n"
     ]
    }
   ],
   "source": [
    "import os\n",
    "fileDict = {}\n",
    "def list_directory_tree_with_indentation(directory, indent=0):\n",
    "    global fileDict\n",
    "    for item in os.listdir(directory):\n",
    "        item_path = os.path.join(directory, item)\n",
    "        if os.path.isfile(item_path):\n",
    "            counter = 0\n",
    "            #print(f\"{'  ' * indent}File: {item}\")\n",
    "            #fileDict[item] = item_path#.split('\\\\')\n",
    "            try:\n",
    "                f = open(item_path, \"r\")\n",
    "                fileDict[item] = item_path\n",
    "            except:\n",
    "                print(\"file wont open\")\n",
    "#             fileList = item_path.split('\\\\')\n",
    "#             fileDict[fileList[-1]] = 0\n",
    "        elif os.path.isdir(item_path):\n",
    "            #print(f\"{'  ' * indent}Directory: {item}\")\n",
    "            list_directory_tree_with_indentation(item_path, indent+1)\n",
    "\n",
    "            \n",
    "#list_directory_tree_with_indentation(\"C:\")\n",
    "#print(fileDict)\n",
    "def select_from_dummy_folder():\n",
    "    global fileDict\n",
    "    list_directory_tree_with_indentation(\"C:\")\n",
    "    file_size_dict = {}\n",
    "    for i in fileDict:\n",
    "        counter = 0 \n",
    "        f = open(fileDict[i], 'r')\n",
    "        try:\n",
    "\n",
    "            while f.readline() != \"\":\n",
    "                counter = counter +1\n",
    "                try:\n",
    "                    f.readline()\n",
    "                except:\n",
    "                    break\n",
    "        except:\n",
    "            print(\"file wont open\")\n",
    "        file_size_dict[i] = counter\n",
    "        print(i,fileDict[i], counter)\n",
    "    user_input = input(\"select a file\")\n",
    "    while user_input != \"stop\":\n",
    "        if user_input in fileDict:\n",
    "            size = file_size_dict[user_input] / 100\n",
    "            for x in range (len(fileDict[user_input].split('\\\\'))+1):\n",
    "                play_file_size(size)\n",
    "                time.sleep(0.3)\n",
    "        else:\n",
    "            print(\"file not found\")\n",
    "        user_input = input(\"select a file\")\n",
    "select_from_dummy_folder()"
   ]
  }
 ],
 "metadata": {
  "kernelspec": {
   "display_name": "Python 3",
   "language": "python",
   "name": "python3"
  },
  "language_info": {
   "codemirror_mode": {
    "name": "ipython",
    "version": 3
   },
   "file_extension": ".py",
   "mimetype": "text/x-python",
   "name": "python",
   "nbconvert_exporter": "python",
   "pygments_lexer": "ipython3",
   "version": "3.8.3"
  }
 },
 "nbformat": 4,
 "nbformat_minor": 4
}
